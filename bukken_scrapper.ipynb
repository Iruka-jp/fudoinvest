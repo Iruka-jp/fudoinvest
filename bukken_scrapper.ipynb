{
 "cells": [
  {
   "cell_type": "code",
   "execution_count": 17,
   "id": "3d2ac225",
   "metadata": {},
   "outputs": [],
   "source": [
    "from msedge.selenium_tools import Edge, EdgeOptions\n",
    "from selenium.webdriver.common.by import By\n",
    "from bs4 import BeautifulSoup\n",
    "import re"
   ]
  },
  {
   "cell_type": "code",
   "execution_count": 8,
   "id": "97d2eecc",
   "metadata": {},
   "outputs": [],
   "source": [
    "options = EdgeOptions()\n",
    "options.use_chromium = True\n",
    "options.add_argument(\"headless\")\n",
    "driver = Edge(executable_path=r'C:\\dev\\WebDrivers\\edgedriver_win64_111\\msedgedriver.exe',options=options)"
   ]
  },
  {
   "cell_type": "code",
   "execution_count": 9,
   "id": "36a24349",
   "metadata": {},
   "outputs": [],
   "source": [
    "driver.get('https://suumo.jp/ms/chuko/fukuoka/city/')"
   ]
  },
  {
   "cell_type": "code",
   "execution_count": 13,
   "id": "292ea167",
   "metadata": {},
   "outputs": [],
   "source": [
    "search_box = driver.find_element(By.CLASS_NAME, 'searchbox')"
   ]
  },
  {
   "cell_type": "raw",
   "id": "1eafdccf",
   "metadata": {},
   "source": []
  },
  {
   "cell_type": "code",
   "execution_count": 14,
   "id": "bfbabdf5",
   "metadata": {},
   "outputs": [],
   "source": [
    "search_button = search_box.find_elements_by_tag_name(\"a\")"
   ]
  },
  {
   "cell_type": "code",
   "execution_count": 15,
   "id": "d03435ea",
   "metadata": {},
   "outputs": [
    {
     "data": {
      "text/plain": [
       "<selenium.webdriver.remote.webelement.WebElement (session=\"ac070ab71d31fef15f1aa011168f2bb4\", element=\"ef82a263-2e31-49d2-bdc9-f8e4d98461af\")>"
      ]
     },
     "execution_count": 15,
     "metadata": {},
     "output_type": "execute_result"
    }
   ],
   "source": [
    "search_button"
   ]
  },
  {
   "cell_type": "code",
   "execution_count": 16,
   "id": "57c86608",
   "metadata": {},
   "outputs": [],
   "source": [
    "search_button.click()"
   ]
  },
  {
   "cell_type": "code",
   "execution_count": 26,
   "id": "18c834e8",
   "metadata": {},
   "outputs": [],
   "source": [
    "properties = driver.find_elements(By.XPATH, \"//div[starts-with(@class,'property_unit')]\")"
   ]
  },
  {
   "cell_type": "code",
   "execution_count": 27,
   "id": "8a3cf286",
   "metadata": {},
   "outputs": [
    {
     "data": {
      "text/plain": [
       "[<selenium.webdriver.remote.webelement.WebElement (session=\"ac070ab71d31fef15f1aa011168f2bb4\", element=\"4a473aba-9975-4502-9f27-bde409f93480\")>,\n",
       " <selenium.webdriver.remote.webelement.WebElement (session=\"ac070ab71d31fef15f1aa011168f2bb4\", element=\"6caf7674-3ed3-450c-be7d-9fea84696171\")>,\n",
       " <selenium.webdriver.remote.webelement.WebElement (session=\"ac070ab71d31fef15f1aa011168f2bb4\", element=\"19cd1e4f-2e32-463c-a1da-2920ecee97d2\")>,\n",
       " <selenium.webdriver.remote.webelement.WebElement (session=\"ac070ab71d31fef15f1aa011168f2bb4\", element=\"a926736b-6b42-47af-a649-7680770ba7d8\")>,\n",
       " <selenium.webdriver.remote.webelement.WebElement (session=\"ac070ab71d31fef15f1aa011168f2bb4\", element=\"a233dea8-d045-4118-b2ae-16344331572e\")>,\n",
       " <selenium.webdriver.remote.webelement.WebElement (session=\"ac070ab71d31fef15f1aa011168f2bb4\", element=\"3e6825f3-57d4-48b7-bbe4-4cc7be4d73fa\")>,\n",
       " <selenium.webdriver.remote.webelement.WebElement (session=\"ac070ab71d31fef15f1aa011168f2bb4\", element=\"d51c2d8d-f1b2-46e3-99f2-8d5a619400da\")>,\n",
       " <selenium.webdriver.remote.webelement.WebElement (session=\"ac070ab71d31fef15f1aa011168f2bb4\", element=\"4d4a7e59-2141-4d86-9052-af93c520fae2\")>,\n",
       " <selenium.webdriver.remote.webelement.WebElement (session=\"ac070ab71d31fef15f1aa011168f2bb4\", element=\"dd13937f-6f46-4d4d-8440-69e1ad53d367\")>,\n",
       " <selenium.webdriver.remote.webelement.WebElement (session=\"ac070ab71d31fef15f1aa011168f2bb4\", element=\"121bcc44-46b7-4403-aeb1-a325a5acd569\")>,\n",
       " <selenium.webdriver.remote.webelement.WebElement (session=\"ac070ab71d31fef15f1aa011168f2bb4\", element=\"7fe0890b-3cc7-46ef-9ae0-161a6061f569\")>,\n",
       " <selenium.webdriver.remote.webelement.WebElement (session=\"ac070ab71d31fef15f1aa011168f2bb4\", element=\"3f064d4e-2411-4c9d-8ea0-d18ec06f329d\")>,\n",
       " <selenium.webdriver.remote.webelement.WebElement (session=\"ac070ab71d31fef15f1aa011168f2bb4\", element=\"9655ecde-a54d-4c20-a9d1-3ee249d2a176\")>,\n",
       " <selenium.webdriver.remote.webelement.WebElement (session=\"ac070ab71d31fef15f1aa011168f2bb4\", element=\"beb08b45-3f9f-426e-b7ed-c8ff4aa8e755\")>,\n",
       " <selenium.webdriver.remote.webelement.WebElement (session=\"ac070ab71d31fef15f1aa011168f2bb4\", element=\"39d4626e-086f-42f7-bd4b-ddfeb8244e61\")>,\n",
       " <selenium.webdriver.remote.webelement.WebElement (session=\"ac070ab71d31fef15f1aa011168f2bb4\", element=\"1d2bd038-e9b3-4a2b-bde2-21ed4929aaa5\")>,\n",
       " <selenium.webdriver.remote.webelement.WebElement (session=\"ac070ab71d31fef15f1aa011168f2bb4\", element=\"54c0a198-5653-4359-808f-c95e0fa49868\")>,\n",
       " <selenium.webdriver.remote.webelement.WebElement (session=\"ac070ab71d31fef15f1aa011168f2bb4\", element=\"67a01b20-3a7b-4656-a2d4-253b630b4689\")>,\n",
       " <selenium.webdriver.remote.webelement.WebElement (session=\"ac070ab71d31fef15f1aa011168f2bb4\", element=\"27817f29-b611-4765-a4b9-a363742ff582\")>,\n",
       " <selenium.webdriver.remote.webelement.WebElement (session=\"ac070ab71d31fef15f1aa011168f2bb4\", element=\"20d24017-7da5-44a3-994d-149a32135d92\")>,\n",
       " <selenium.webdriver.remote.webelement.WebElement (session=\"ac070ab71d31fef15f1aa011168f2bb4\", element=\"f15d6e52-706f-409f-8830-81856cab2070\")>,\n",
       " <selenium.webdriver.remote.webelement.WebElement (session=\"ac070ab71d31fef15f1aa011168f2bb4\", element=\"0589eebd-ff11-4c3e-86e7-ae8ddbe26ee5\")>,\n",
       " <selenium.webdriver.remote.webelement.WebElement (session=\"ac070ab71d31fef15f1aa011168f2bb4\", element=\"45824733-165b-4857-b9e4-799e2d594a98\")>,\n",
       " <selenium.webdriver.remote.webelement.WebElement (session=\"ac070ab71d31fef15f1aa011168f2bb4\", element=\"343bd83e-9258-4d50-b59f-16be2b64e8cb\")>,\n",
       " <selenium.webdriver.remote.webelement.WebElement (session=\"ac070ab71d31fef15f1aa011168f2bb4\", element=\"1b8aa92c-6ae6-481d-a77d-317d90ee313d\")>,\n",
       " <selenium.webdriver.remote.webelement.WebElement (session=\"ac070ab71d31fef15f1aa011168f2bb4\", element=\"e740206c-d86c-4a78-8cfa-831dbf4506f1\")>,\n",
       " <selenium.webdriver.remote.webelement.WebElement (session=\"ac070ab71d31fef15f1aa011168f2bb4\", element=\"e59a9000-9d27-4cbc-b1f0-797748cdbaaf\")>,\n",
       " <selenium.webdriver.remote.webelement.WebElement (session=\"ac070ab71d31fef15f1aa011168f2bb4\", element=\"ad2338a1-856b-4a6c-8670-1b730150c322\")>,\n",
       " <selenium.webdriver.remote.webelement.WebElement (session=\"ac070ab71d31fef15f1aa011168f2bb4\", element=\"789cfdd9-3dd6-41fb-a144-c353a5162665\")>,\n",
       " <selenium.webdriver.remote.webelement.WebElement (session=\"ac070ab71d31fef15f1aa011168f2bb4\", element=\"25f75246-4f28-4fe6-9e82-080fad26ffe2\")>,\n",
       " <selenium.webdriver.remote.webelement.WebElement (session=\"ac070ab71d31fef15f1aa011168f2bb4\", element=\"1a1ba491-3d94-48e6-9f94-ea17c65e3df0\")>,\n",
       " <selenium.webdriver.remote.webelement.WebElement (session=\"ac070ab71d31fef15f1aa011168f2bb4\", element=\"a3a2b7b1-33a6-4d65-a646-684889273b68\")>,\n",
       " <selenium.webdriver.remote.webelement.WebElement (session=\"ac070ab71d31fef15f1aa011168f2bb4\", element=\"151cbc9f-a2e0-4410-8788-59bbee001632\")>,\n",
       " <selenium.webdriver.remote.webelement.WebElement (session=\"ac070ab71d31fef15f1aa011168f2bb4\", element=\"942bebc1-77eb-4523-98bc-38dfd6c9992d\")>,\n",
       " <selenium.webdriver.remote.webelement.WebElement (session=\"ac070ab71d31fef15f1aa011168f2bb4\", element=\"b0a23a45-5a63-4246-80a0-fbf1f6ab4cdf\")>,\n",
       " <selenium.webdriver.remote.webelement.WebElement (session=\"ac070ab71d31fef15f1aa011168f2bb4\", element=\"ddd67833-bc2b-45a6-b108-c55e2f55eca6\")>,\n",
       " <selenium.webdriver.remote.webelement.WebElement (session=\"ac070ab71d31fef15f1aa011168f2bb4\", element=\"76db5f36-1622-489b-8a39-30e0ec5d2a15\")>,\n",
       " <selenium.webdriver.remote.webelement.WebElement (session=\"ac070ab71d31fef15f1aa011168f2bb4\", element=\"8705eeca-1feb-4537-817b-c35d2f5a0b2c\")>,\n",
       " <selenium.webdriver.remote.webelement.WebElement (session=\"ac070ab71d31fef15f1aa011168f2bb4\", element=\"8be996a8-63dd-4854-b56a-50c261731847\")>,\n",
       " <selenium.webdriver.remote.webelement.WebElement (session=\"ac070ab71d31fef15f1aa011168f2bb4\", element=\"60dcc960-b080-4f7c-bb3e-d727b314cf62\")>,\n",
       " <selenium.webdriver.remote.webelement.WebElement (session=\"ac070ab71d31fef15f1aa011168f2bb4\", element=\"f53771a6-9206-4db8-92cb-cf3d89331302\")>,\n",
       " <selenium.webdriver.remote.webelement.WebElement (session=\"ac070ab71d31fef15f1aa011168f2bb4\", element=\"4465aefd-129e-4169-a4de-b27854f3c15c\")>,\n",
       " <selenium.webdriver.remote.webelement.WebElement (session=\"ac070ab71d31fef15f1aa011168f2bb4\", element=\"0697526b-1d69-436c-a5fa-38645674d7a7\")>,\n",
       " <selenium.webdriver.remote.webelement.WebElement (session=\"ac070ab71d31fef15f1aa011168f2bb4\", element=\"50aa60f1-aaf6-44fc-98e1-7d6c5bf209e0\")>,\n",
       " <selenium.webdriver.remote.webelement.WebElement (session=\"ac070ab71d31fef15f1aa011168f2bb4\", element=\"4275367f-07b1-4046-9336-308849c51067\")>,\n",
       " <selenium.webdriver.remote.webelement.WebElement (session=\"ac070ab71d31fef15f1aa011168f2bb4\", element=\"1e7fa8fa-b663-4f46-af7f-281088b66a4c\")>,\n",
       " <selenium.webdriver.remote.webelement.WebElement (session=\"ac070ab71d31fef15f1aa011168f2bb4\", element=\"fe6641d7-0f85-418c-a41d-3962702f1ebc\")>,\n",
       " <selenium.webdriver.remote.webelement.WebElement (session=\"ac070ab71d31fef15f1aa011168f2bb4\", element=\"13efc373-2a55-4b29-bbbb-a8ccb5a3d3f0\")>,\n",
       " <selenium.webdriver.remote.webelement.WebElement (session=\"ac070ab71d31fef15f1aa011168f2bb4\", element=\"6d36c99c-7274-419f-ad77-831d55b69b5e\")>,\n",
       " <selenium.webdriver.remote.webelement.WebElement (session=\"ac070ab71d31fef15f1aa011168f2bb4\", element=\"b7d9884f-a2c9-42a7-957a-3adc6820ad29\")>,\n",
       " <selenium.webdriver.remote.webelement.WebElement (session=\"ac070ab71d31fef15f1aa011168f2bb4\", element=\"947813b0-d6da-4517-b3b9-6f23bff656a5\")>,\n",
       " <selenium.webdriver.remote.webelement.WebElement (session=\"ac070ab71d31fef15f1aa011168f2bb4\", element=\"d64f8d32-fb7a-49c1-ae2f-c99e095c5794\")>,\n",
       " <selenium.webdriver.remote.webelement.WebElement (session=\"ac070ab71d31fef15f1aa011168f2bb4\", element=\"3fd78eeb-97d2-4476-93f1-a5db76baf5de\")>,\n",
       " <selenium.webdriver.remote.webelement.WebElement (session=\"ac070ab71d31fef15f1aa011168f2bb4\", element=\"de8a95a0-32aa-4c39-8438-7e7f8f445710\")>,\n",
       " <selenium.webdriver.remote.webelement.WebElement (session=\"ac070ab71d31fef15f1aa011168f2bb4\", element=\"761b8786-2046-4a49-b144-3a30d7cd4d7a\")>,\n",
       " <selenium.webdriver.remote.webelement.WebElement (session=\"ac070ab71d31fef15f1aa011168f2bb4\", element=\"8a9d2039-2498-4be3-a6f9-be3dfa75360f\")>,\n",
       " <selenium.webdriver.remote.webelement.WebElement (session=\"ac070ab71d31fef15f1aa011168f2bb4\", element=\"305a9866-e43c-4fd0-9eb5-b7b14ec923bd\")>,\n",
       " <selenium.webdriver.remote.webelement.WebElement (session=\"ac070ab71d31fef15f1aa011168f2bb4\", element=\"aec050e1-7ad1-43a9-bf3d-1a8f08155f16\")>,\n",
       " <selenium.webdriver.remote.webelement.WebElement (session=\"ac070ab71d31fef15f1aa011168f2bb4\", element=\"a36e4963-16e5-4385-87f3-3fbba9ad1e69\")>,\n",
       " <selenium.webdriver.remote.webelement.WebElement (session=\"ac070ab71d31fef15f1aa011168f2bb4\", element=\"5191ee77-9229-4756-a570-c929167221f3\")>,\n",
       " <selenium.webdriver.remote.webelement.WebElement (session=\"ac070ab71d31fef15f1aa011168f2bb4\", element=\"a361be41-d16b-4acc-a2eb-d67b530a1101\")>,\n",
       " <selenium.webdriver.remote.webelement.WebElement (session=\"ac070ab71d31fef15f1aa011168f2bb4\", element=\"576ce3d6-9ad0-48d8-9b5c-57e416d8438a\")>,\n",
       " <selenium.webdriver.remote.webelement.WebElement (session=\"ac070ab71d31fef15f1aa011168f2bb4\", element=\"1472f5cd-edaf-477d-87b9-f7ec2f184f0f\")>,\n",
       " <selenium.webdriver.remote.webelement.WebElement (session=\"ac070ab71d31fef15f1aa011168f2bb4\", element=\"65d27c5b-fa39-42f0-a242-3f49bc6a2b85\")>,\n",
       " <selenium.webdriver.remote.webelement.WebElement (session=\"ac070ab71d31fef15f1aa011168f2bb4\", element=\"81b881f6-3457-4dd0-bfee-3f3c656a3a61\")>,\n",
       " <selenium.webdriver.remote.webelement.WebElement (session=\"ac070ab71d31fef15f1aa011168f2bb4\", element=\"6ab70b41-215c-4e86-8b33-fd52ede275e1\")>,\n",
       " <selenium.webdriver.remote.webelement.WebElement (session=\"ac070ab71d31fef15f1aa011168f2bb4\", element=\"55255494-f980-475f-bf1a-2d26c965dad5\")>,\n",
       " <selenium.webdriver.remote.webelement.WebElement (session=\"ac070ab71d31fef15f1aa011168f2bb4\", element=\"a23e439d-cf7d-45c1-9ce6-a36deeb6f6fc\")>,\n",
       " <selenium.webdriver.remote.webelement.WebElement (session=\"ac070ab71d31fef15f1aa011168f2bb4\", element=\"5709ffea-a758-4cbe-864d-36c32ae7de9a\")>,\n",
       " <selenium.webdriver.remote.webelement.WebElement (session=\"ac070ab71d31fef15f1aa011168f2bb4\", element=\"fbf1b66b-3379-4148-baa3-04e5841b0f56\")>,\n",
       " <selenium.webdriver.remote.webelement.WebElement (session=\"ac070ab71d31fef15f1aa011168f2bb4\", element=\"e253c402-93b1-45eb-bee7-930b944252c6\")>,\n",
       " <selenium.webdriver.remote.webelement.WebElement (session=\"ac070ab71d31fef15f1aa011168f2bb4\", element=\"636cbb9e-b429-440c-a730-36dd72b87435\")>,\n",
       " <selenium.webdriver.remote.webelement.WebElement (session=\"ac070ab71d31fef15f1aa011168f2bb4\", element=\"7690a51d-3ddb-4ce8-b0a2-dc304f40cd10\")>,\n",
       " <selenium.webdriver.remote.webelement.WebElement (session=\"ac070ab71d31fef15f1aa011168f2bb4\", element=\"01359eac-47a7-46d3-91f4-c1395948ba42\")>,\n",
       " <selenium.webdriver.remote.webelement.WebElement (session=\"ac070ab71d31fef15f1aa011168f2bb4\", element=\"5919143d-76a5-4185-a1b3-f1f004360199\")>,\n",
       " <selenium.webdriver.remote.webelement.WebElement (session=\"ac070ab71d31fef15f1aa011168f2bb4\", element=\"adf01c17-f23b-4fd4-a19f-d2ab94b7edea\")>,\n",
       " <selenium.webdriver.remote.webelement.WebElement (session=\"ac070ab71d31fef15f1aa011168f2bb4\", element=\"19026fc4-3cfb-43e5-b2bb-f6d58076c36c\")>,\n",
       " <selenium.webdriver.remote.webelement.WebElement (session=\"ac070ab71d31fef15f1aa011168f2bb4\", element=\"ef8793e6-508b-4328-976b-ef5b18d43dfa\")>,\n",
       " <selenium.webdriver.remote.webelement.WebElement (session=\"ac070ab71d31fef15f1aa011168f2bb4\", element=\"0d05ba2a-8c42-4a60-b066-7215184a9ab4\")>,\n",
       " <selenium.webdriver.remote.webelement.WebElement (session=\"ac070ab71d31fef15f1aa011168f2bb4\", element=\"e0385bb6-58f5-4cac-8261-a05c8135789b\")>,\n",
       " <selenium.webdriver.remote.webelement.WebElement (session=\"ac070ab71d31fef15f1aa011168f2bb4\", element=\"8ac7883c-8ebd-4be0-91c8-153dda7ec57a\")>,\n",
       " <selenium.webdriver.remote.webelement.WebElement (session=\"ac070ab71d31fef15f1aa011168f2bb4\", element=\"9c987d81-c887-4762-b4ae-c9902fa5e5bc\")>,\n",
       " <selenium.webdriver.remote.webelement.WebElement (session=\"ac070ab71d31fef15f1aa011168f2bb4\", element=\"90fcf480-07f8-4f2c-9188-89e8b91a244c\")>,\n",
       " <selenium.webdriver.remote.webelement.WebElement (session=\"ac070ab71d31fef15f1aa011168f2bb4\", element=\"5fe7c9f8-22b2-4f91-b378-3075a78c20d7\")>,\n",
       " <selenium.webdriver.remote.webelement.WebElement (session=\"ac070ab71d31fef15f1aa011168f2bb4\", element=\"50719664-2a89-47e7-9502-ccb590ad2c56\")>,\n",
       " <selenium.webdriver.remote.webelement.WebElement (session=\"ac070ab71d31fef15f1aa011168f2bb4\", element=\"c1499d46-56b7-4de5-bc0b-094cd77d8fc5\")>,\n",
       " <selenium.webdriver.remote.webelement.WebElement (session=\"ac070ab71d31fef15f1aa011168f2bb4\", element=\"0c68727b-3a86-4da7-919a-0b898340b89b\")>,\n",
       " <selenium.webdriver.remote.webelement.WebElement (session=\"ac070ab71d31fef15f1aa011168f2bb4\", element=\"4c30f28c-76fd-46e6-bdef-304d96b62cda\")>,\n",
       " <selenium.webdriver.remote.webelement.WebElement (session=\"ac070ab71d31fef15f1aa011168f2bb4\", element=\"60783385-f774-463b-8116-0e1d60482eb4\")>,\n",
       " <selenium.webdriver.remote.webelement.WebElement (session=\"ac070ab71d31fef15f1aa011168f2bb4\", element=\"4224042a-eee8-42ea-bbd6-6bb157cd8ea4\")>,\n",
       " <selenium.webdriver.remote.webelement.WebElement (session=\"ac070ab71d31fef15f1aa011168f2bb4\", element=\"18a24e8b-8d31-42ea-8bcd-cf0f85db1ec3\")>,\n",
       " <selenium.webdriver.remote.webelement.WebElement (session=\"ac070ab71d31fef15f1aa011168f2bb4\", element=\"701fd8cc-f960-41c9-8f00-600b76ca2c30\")>,\n",
       " <selenium.webdriver.remote.webelement.WebElement (session=\"ac070ab71d31fef15f1aa011168f2bb4\", element=\"17a207d3-bd11-4f2c-8ffd-d9947d2d59bb\")>,\n",
       " <selenium.webdriver.remote.webelement.WebElement (session=\"ac070ab71d31fef15f1aa011168f2bb4\", element=\"5882362e-1925-4859-98f5-3124f31e0a0d\")>,\n",
       " <selenium.webdriver.remote.webelement.WebElement (session=\"ac070ab71d31fef15f1aa011168f2bb4\", element=\"4f9302b5-b45a-4fb4-823c-16a711943fd4\")>,\n",
       " <selenium.webdriver.remote.webelement.WebElement (session=\"ac070ab71d31fef15f1aa011168f2bb4\", element=\"7aa1516f-7b9f-46f3-8a7d-f423713bebd6\")>,\n",
       " <selenium.webdriver.remote.webelement.WebElement (session=\"ac070ab71d31fef15f1aa011168f2bb4\", element=\"c193cbdf-ef15-493b-966f-7650d36e03b9\")>,\n",
       " <selenium.webdriver.remote.webelement.WebElement (session=\"ac070ab71d31fef15f1aa011168f2bb4\", element=\"e9f4c9fe-d239-436c-9e43-03c436a9e3a7\")>,\n",
       " <selenium.webdriver.remote.webelement.WebElement (session=\"ac070ab71d31fef15f1aa011168f2bb4\", element=\"26fd2619-b9bb-4a82-a57a-35fe85c7d836\")>,\n",
       " <selenium.webdriver.remote.webelement.WebElement (session=\"ac070ab71d31fef15f1aa011168f2bb4\", element=\"4d5593e1-4497-4fd1-b76c-fc9ee6ed8bf5\")>,\n",
       " <selenium.webdriver.remote.webelement.WebElement (session=\"ac070ab71d31fef15f1aa011168f2bb4\", element=\"c13bc682-2d76-42fe-9912-b68e1591c525\")>,\n",
       " <selenium.webdriver.remote.webelement.WebElement (session=\"ac070ab71d31fef15f1aa011168f2bb4\", element=\"15e36116-5646-49f3-989a-bcdcaffccd5f\")>,\n",
       " <selenium.webdriver.remote.webelement.WebElement (session=\"ac070ab71d31fef15f1aa011168f2bb4\", element=\"15b03965-a214-4989-9d30-3112b3180170\")>,\n",
       " <selenium.webdriver.remote.webelement.WebElement (session=\"ac070ab71d31fef15f1aa011168f2bb4\", element=\"5a990f78-6b3f-4aa1-a458-37195a901d36\")>,\n",
       " <selenium.webdriver.remote.webelement.WebElement (session=\"ac070ab71d31fef15f1aa011168f2bb4\", element=\"08822f99-a28f-43c7-902c-6aa88a46a218\")>,\n",
       " <selenium.webdriver.remote.webelement.WebElement (session=\"ac070ab71d31fef15f1aa011168f2bb4\", element=\"09605cc8-5a37-4525-b9b5-0dabdb2b2ae0\")>,\n",
       " <selenium.webdriver.remote.webelement.WebElement (session=\"ac070ab71d31fef15f1aa011168f2bb4\", element=\"047f0813-0820-4cd8-9ddd-28ea62b9f6aa\")>,\n",
       " <selenium.webdriver.remote.webelement.WebElement (session=\"ac070ab71d31fef15f1aa011168f2bb4\", element=\"5e999df7-8c30-498c-984c-3664ea54a9a9\")>,\n",
       " <selenium.webdriver.remote.webelement.WebElement (session=\"ac070ab71d31fef15f1aa011168f2bb4\", element=\"b0299894-d199-423f-949d-6406cd528fd9\")>,\n",
       " <selenium.webdriver.remote.webelement.WebElement (session=\"ac070ab71d31fef15f1aa011168f2bb4\", element=\"dc58f7a7-da46-48ec-aa69-0ab4ea68ddda\")>,\n",
       " <selenium.webdriver.remote.webelement.WebElement (session=\"ac070ab71d31fef15f1aa011168f2bb4\", element=\"6d7d1756-428c-447d-9350-23c41ecc987b\")>,\n",
       " <selenium.webdriver.remote.webelement.WebElement (session=\"ac070ab71d31fef15f1aa011168f2bb4\", element=\"d8d5416c-53d5-4856-a67f-61011c079645\")>,\n",
       " <selenium.webdriver.remote.webelement.WebElement (session=\"ac070ab71d31fef15f1aa011168f2bb4\", element=\"1fcb6dc1-5ec7-4d81-9ed5-535761cf33b3\")>,\n",
       " <selenium.webdriver.remote.webelement.WebElement (session=\"ac070ab71d31fef15f1aa011168f2bb4\", element=\"08a15839-546f-44bb-a9ea-8b72d57d0d76\")>,\n",
       " <selenium.webdriver.remote.webelement.WebElement (session=\"ac070ab71d31fef15f1aa011168f2bb4\", element=\"b287279d-14f0-4bca-9941-f1c5fc6b0529\")>,\n",
       " <selenium.webdriver.remote.webelement.WebElement (session=\"ac070ab71d31fef15f1aa011168f2bb4\", element=\"05d13cf8-a4d6-44f5-bc15-923938e02cd3\")>,\n",
       " <selenium.webdriver.remote.webelement.WebElement (session=\"ac070ab71d31fef15f1aa011168f2bb4\", element=\"7b5e1972-11c9-4136-97c1-4b5a3952da1a\")>,\n",
       " <selenium.webdriver.remote.webelement.WebElement (session=\"ac070ab71d31fef15f1aa011168f2bb4\", element=\"390af908-a1da-4008-9179-21276ae97faf\")>,\n",
       " <selenium.webdriver.remote.webelement.WebElement (session=\"ac070ab71d31fef15f1aa011168f2bb4\", element=\"56c0511b-fda0-4ec0-984b-02c647f7a404\")>,\n",
       " <selenium.webdriver.remote.webelement.WebElement (session=\"ac070ab71d31fef15f1aa011168f2bb4\", element=\"bac11c95-27a0-4e21-b0d6-e4fa67776778\")>,\n",
       " <selenium.webdriver.remote.webelement.WebElement (session=\"ac070ab71d31fef15f1aa011168f2bb4\", element=\"2bca8835-fa4e-4dff-b59d-e547cae7872d\")>,\n",
       " <selenium.webdriver.remote.webelement.WebElement (session=\"ac070ab71d31fef15f1aa011168f2bb4\", element=\"ec80c758-c923-42ad-b154-e42df7d43873\")>,\n",
       " <selenium.webdriver.remote.webelement.WebElement (session=\"ac070ab71d31fef15f1aa011168f2bb4\", element=\"4ca727ba-658e-40c4-b9f8-3d910928b378\")>,\n",
       " <selenium.webdriver.remote.webelement.WebElement (session=\"ac070ab71d31fef15f1aa011168f2bb4\", element=\"af1bd723-2dc5-4d0f-b421-eaf13b1dc6e2\")>,\n",
       " <selenium.webdriver.remote.webelement.WebElement (session=\"ac070ab71d31fef15f1aa011168f2bb4\", element=\"9dc5633b-0fac-4db7-9f2c-53da5f0009e9\")>,\n",
       " <selenium.webdriver.remote.webelement.WebElement (session=\"ac070ab71d31fef15f1aa011168f2bb4\", element=\"857e91d1-cae8-48c4-85d4-caf85e092d5b\")>,\n",
       " <selenium.webdriver.remote.webelement.WebElement (session=\"ac070ab71d31fef15f1aa011168f2bb4\", element=\"1320d90f-a081-498c-bffb-9646293fdceb\")>,\n",
       " <selenium.webdriver.remote.webelement.WebElement (session=\"ac070ab71d31fef15f1aa011168f2bb4\", element=\"e77c6dda-347f-4ffc-9bca-cc467c34ec7f\")>,\n",
       " <selenium.webdriver.remote.webelement.WebElement (session=\"ac070ab71d31fef15f1aa011168f2bb4\", element=\"19646dcd-c50f-47e3-9ba8-d57542516dd0\")>,\n",
       " <selenium.webdriver.remote.webelement.WebElement (session=\"ac070ab71d31fef15f1aa011168f2bb4\", element=\"4691c7c9-41f7-4234-b658-897ec59cce28\")>,\n",
       " <selenium.webdriver.remote.webelement.WebElement (session=\"ac070ab71d31fef15f1aa011168f2bb4\", element=\"4572289e-6296-4d94-896b-e03334d054ba\")>,\n",
       " <selenium.webdriver.remote.webelement.WebElement (session=\"ac070ab71d31fef15f1aa011168f2bb4\", element=\"5a6b16d7-df50-48d8-bb60-03df8566672d\")>,\n",
       " <selenium.webdriver.remote.webelement.WebElement (session=\"ac070ab71d31fef15f1aa011168f2bb4\", element=\"3f60bff1-cb0a-4bcc-b932-2bb0077ae419\")>,\n",
       " <selenium.webdriver.remote.webelement.WebElement (session=\"ac070ab71d31fef15f1aa011168f2bb4\", element=\"ded6ae2d-67c8-4f95-954a-6bdcf188e40c\")>,\n",
       " <selenium.webdriver.remote.webelement.WebElement (session=\"ac070ab71d31fef15f1aa011168f2bb4\", element=\"06f28b31-8b2d-452d-a7a3-a0cb6209a512\")>,\n",
       " <selenium.webdriver.remote.webelement.WebElement (session=\"ac070ab71d31fef15f1aa011168f2bb4\", element=\"f2dd5093-0fb5-4385-a265-2c25febc5687\")>,\n",
       " <selenium.webdriver.remote.webelement.WebElement (session=\"ac070ab71d31fef15f1aa011168f2bb4\", element=\"651f6927-2c12-4a87-a61b-58eb5bb4e22f\")>,\n",
       " <selenium.webdriver.remote.webelement.WebElement (session=\"ac070ab71d31fef15f1aa011168f2bb4\", element=\"764addbf-f04f-46fd-9415-d9c80c10cf16\")>,\n",
       " <selenium.webdriver.remote.webelement.WebElement (session=\"ac070ab71d31fef15f1aa011168f2bb4\", element=\"1c35d7c0-9a53-4882-bffa-c3d7621c1555\")>,\n",
       " <selenium.webdriver.remote.webelement.WebElement (session=\"ac070ab71d31fef15f1aa011168f2bb4\", element=\"60ec418b-e73c-4b5f-a5d5-59f98e47c8ce\")>,\n",
       " <selenium.webdriver.remote.webelement.WebElement (session=\"ac070ab71d31fef15f1aa011168f2bb4\", element=\"a1c7562d-daa8-4646-bc1c-c84fe6a4e672\")>,\n",
       " <selenium.webdriver.remote.webelement.WebElement (session=\"ac070ab71d31fef15f1aa011168f2bb4\", element=\"356f1adb-1ff6-4962-a032-f3ee24400689\")>,\n",
       " <selenium.webdriver.remote.webelement.WebElement (session=\"ac070ab71d31fef15f1aa011168f2bb4\", element=\"04afd890-a318-42d7-8543-fa7191509866\")>,\n",
       " <selenium.webdriver.remote.webelement.WebElement (session=\"ac070ab71d31fef15f1aa011168f2bb4\", element=\"958eac4d-c9e3-4603-a222-e2828746e097\")>,\n",
       " <selenium.webdriver.remote.webelement.WebElement (session=\"ac070ab71d31fef15f1aa011168f2bb4\", element=\"72a8f689-3da2-4ffc-8e7a-3d6862f4a78c\")>,\n",
       " <selenium.webdriver.remote.webelement.WebElement (session=\"ac070ab71d31fef15f1aa011168f2bb4\", element=\"f0c7d163-29f4-4cc2-b655-ca27e747b384\")>,\n",
       " <selenium.webdriver.remote.webelement.WebElement (session=\"ac070ab71d31fef15f1aa011168f2bb4\", element=\"1c45f831-0f16-4b98-899d-8f2c9e234bb5\")>,\n",
       " <selenium.webdriver.remote.webelement.WebElement (session=\"ac070ab71d31fef15f1aa011168f2bb4\", element=\"158d0d41-48bf-44f5-8557-3ba5a3c17575\")>,\n",
       " <selenium.webdriver.remote.webelement.WebElement (session=\"ac070ab71d31fef15f1aa011168f2bb4\", element=\"d5d77047-4fe8-44c2-9282-f9620aacc5f5\")>,\n",
       " <selenium.webdriver.remote.webelement.WebElement (session=\"ac070ab71d31fef15f1aa011168f2bb4\", element=\"78c9990d-eca5-4f7d-8d09-0d9d7de88283\")>,\n",
       " <selenium.webdriver.remote.webelement.WebElement (session=\"ac070ab71d31fef15f1aa011168f2bb4\", element=\"c0938910-1c2c-4ec9-a17b-45431b248130\")>,\n",
       " <selenium.webdriver.remote.webelement.WebElement (session=\"ac070ab71d31fef15f1aa011168f2bb4\", element=\"c2c4029c-6d61-450f-b746-eced9b23cd4f\")>,\n",
       " <selenium.webdriver.remote.webelement.WebElement (session=\"ac070ab71d31fef15f1aa011168f2bb4\", element=\"6032be2a-02c3-4c6c-888f-530d1f8408b9\")>,\n",
       " <selenium.webdriver.remote.webelement.WebElement (session=\"ac070ab71d31fef15f1aa011168f2bb4\", element=\"da519870-5097-4188-b741-e883c817054e\")>,\n",
       " <selenium.webdriver.remote.webelement.WebElement (session=\"ac070ab71d31fef15f1aa011168f2bb4\", element=\"3c63ec5a-8a2f-4bbb-80b4-f945b00dc763\")>,\n",
       " <selenium.webdriver.remote.webelement.WebElement (session=\"ac070ab71d31fef15f1aa011168f2bb4\", element=\"7d5d7903-3213-46fa-9ab7-6ac6a69530c0\")>,\n",
       " <selenium.webdriver.remote.webelement.WebElement (session=\"ac070ab71d31fef15f1aa011168f2bb4\", element=\"93b2b229-f7ea-4c73-8804-3a657af44072\")>,\n",
       " <selenium.webdriver.remote.webelement.WebElement (session=\"ac070ab71d31fef15f1aa011168f2bb4\", element=\"dfc734f4-8757-4512-98bb-e8b4607add31\")>,\n",
       " <selenium.webdriver.remote.webelement.WebElement (session=\"ac070ab71d31fef15f1aa011168f2bb4\", element=\"95e81cbb-3b29-4440-9a1b-9cc00c75804c\")>,\n",
       " <selenium.webdriver.remote.webelement.WebElement (session=\"ac070ab71d31fef15f1aa011168f2bb4\", element=\"35145d53-7577-4057-95b6-da28df5e23be\")>,\n",
       " <selenium.webdriver.remote.webelement.WebElement (session=\"ac070ab71d31fef15f1aa011168f2bb4\", element=\"eac68008-5169-43b0-9283-51b5c52efc44\")>,\n",
       " <selenium.webdriver.remote.webelement.WebElement (session=\"ac070ab71d31fef15f1aa011168f2bb4\", element=\"2a389b02-f068-48fa-b47e-fbb92ee032ab\")>,\n",
       " <selenium.webdriver.remote.webelement.WebElement (session=\"ac070ab71d31fef15f1aa011168f2bb4\", element=\"7e7a2ab0-568b-42ec-8039-d225acf32b0e\")>,\n",
       " <selenium.webdriver.remote.webelement.WebElement (session=\"ac070ab71d31fef15f1aa011168f2bb4\", element=\"c3f9cce3-93d3-49c6-8b46-24d33c389d57\")>,\n",
       " <selenium.webdriver.remote.webelement.WebElement (session=\"ac070ab71d31fef15f1aa011168f2bb4\", element=\"497ec2f2-02ec-46b8-b345-fb3098b5e77b\")>,\n",
       " <selenium.webdriver.remote.webelement.WebElement (session=\"ac070ab71d31fef15f1aa011168f2bb4\", element=\"cd312204-e117-4e08-b395-dce4e7771d1d\")>,\n",
       " <selenium.webdriver.remote.webelement.WebElement (session=\"ac070ab71d31fef15f1aa011168f2bb4\", element=\"de28982a-3ef6-4c2d-b3ce-7d6c8ad531a3\")>,\n",
       " <selenium.webdriver.remote.webelement.WebElement (session=\"ac070ab71d31fef15f1aa011168f2bb4\", element=\"9cf0a6d4-c2f6-46fc-8fed-bc4fc6286ec2\")>,\n",
       " <selenium.webdriver.remote.webelement.WebElement (session=\"ac070ab71d31fef15f1aa011168f2bb4\", element=\"9b2a3325-9a52-48b0-bb3b-555fc1caf848\")>,\n",
       " <selenium.webdriver.remote.webelement.WebElement (session=\"ac070ab71d31fef15f1aa011168f2bb4\", element=\"4ae84e00-9fc3-4b20-a234-2e923feddca5\")>,\n",
       " <selenium.webdriver.remote.webelement.WebElement (session=\"ac070ab71d31fef15f1aa011168f2bb4\", element=\"ee56ae6d-5edf-4ec3-b58c-a13d6bcd21f2\")>,\n",
       " <selenium.webdriver.remote.webelement.WebElement (session=\"ac070ab71d31fef15f1aa011168f2bb4\", element=\"f1f2c854-431d-4b57-9b8f-ca0ccf35d5d2\")>,\n",
       " <selenium.webdriver.remote.webelement.WebElement (session=\"ac070ab71d31fef15f1aa011168f2bb4\", element=\"14a80ac7-35c7-4237-8272-c981687d6c61\")>,\n",
       " <selenium.webdriver.remote.webelement.WebElement (session=\"ac070ab71d31fef15f1aa011168f2bb4\", element=\"7c5a6bdc-5f3c-4280-92d3-80e1b04eb134\")>,\n",
       " <selenium.webdriver.remote.webelement.WebElement (session=\"ac070ab71d31fef15f1aa011168f2bb4\", element=\"9dd6a2df-29fe-43cb-8a94-4bd9edce4fcc\")>,\n",
       " <selenium.webdriver.remote.webelement.WebElement (session=\"ac070ab71d31fef15f1aa011168f2bb4\", element=\"ad1a98ad-31be-4923-9f1f-947e01936562\")>,\n",
       " <selenium.webdriver.remote.webelement.WebElement (session=\"ac070ab71d31fef15f1aa011168f2bb4\", element=\"b4b2abfd-9748-4fc6-91a3-6a6e70d6688e\")>,\n",
       " <selenium.webdriver.remote.webelement.WebElement (session=\"ac070ab71d31fef15f1aa011168f2bb4\", element=\"69b737f8-fda2-4f0d-9d7b-3d642bf125cd\")>,\n",
       " <selenium.webdriver.remote.webelement.WebElement (session=\"ac070ab71d31fef15f1aa011168f2bb4\", element=\"a65ef008-824c-4e92-ba50-7e4ed1e28a21\")>,\n",
       " <selenium.webdriver.remote.webelement.WebElement (session=\"ac070ab71d31fef15f1aa011168f2bb4\", element=\"3fe766d6-1725-43bf-ac22-c3028ff79ad9\")>,\n",
       " <selenium.webdriver.remote.webelement.WebElement (session=\"ac070ab71d31fef15f1aa011168f2bb4\", element=\"ad9c407e-fd26-4444-946f-42e83b94d98c\")>,\n",
       " <selenium.webdriver.remote.webelement.WebElement (session=\"ac070ab71d31fef15f1aa011168f2bb4\", element=\"e244ff58-ff58-4b1b-ab61-28df4ee3680a\")>,\n",
       " <selenium.webdriver.remote.webelement.WebElement (session=\"ac070ab71d31fef15f1aa011168f2bb4\", element=\"9f7f2185-599f-4780-b43f-eb95d52eb165\")>,\n",
       " <selenium.webdriver.remote.webelement.WebElement (session=\"ac070ab71d31fef15f1aa011168f2bb4\", element=\"b0e7c411-7384-4075-b615-c4feb3fb23c0\")>,\n",
       " <selenium.webdriver.remote.webelement.WebElement (session=\"ac070ab71d31fef15f1aa011168f2bb4\", element=\"ef03c8e0-7515-4b09-bee2-50a28006f79e\")>,\n",
       " <selenium.webdriver.remote.webelement.WebElement (session=\"ac070ab71d31fef15f1aa011168f2bb4\", element=\"29dfdcfa-004d-4a51-b220-21fec55b3102\")>,\n",
       " <selenium.webdriver.remote.webelement.WebElement (session=\"ac070ab71d31fef15f1aa011168f2bb4\", element=\"620ef450-46b7-429b-a187-05d2ce199de2\")>,\n",
       " <selenium.webdriver.remote.webelement.WebElement (session=\"ac070ab71d31fef15f1aa011168f2bb4\", element=\"e6b1094b-ae0c-4661-a52c-ba8c1dff7bd1\")>,\n",
       " <selenium.webdriver.remote.webelement.WebElement (session=\"ac070ab71d31fef15f1aa011168f2bb4\", element=\"30197cbe-b8fe-4c7b-a7c2-901ecd49a825\")>,\n",
       " <selenium.webdriver.remote.webelement.WebElement (session=\"ac070ab71d31fef15f1aa011168f2bb4\", element=\"5e2a83c4-92dc-4a2b-8f46-c137c63038ac\")>,\n",
       " <selenium.webdriver.remote.webelement.WebElement (session=\"ac070ab71d31fef15f1aa011168f2bb4\", element=\"f5f3a0c9-d304-4696-9fcb-80b5a6d8c256\")>,\n",
       " <selenium.webdriver.remote.webelement.WebElement (session=\"ac070ab71d31fef15f1aa011168f2bb4\", element=\"db09bd75-5688-47cb-b9ae-0ec10664eaeb\")>,\n",
       " <selenium.webdriver.remote.webelement.WebElement (session=\"ac070ab71d31fef15f1aa011168f2bb4\", element=\"b9f47f5c-621c-4bac-b266-900f889d19e4\")>,\n",
       " <selenium.webdriver.remote.webelement.WebElement (session=\"ac070ab71d31fef15f1aa011168f2bb4\", element=\"4cee0bd8-b37b-4bc0-b036-f62621282704\")>,\n",
       " <selenium.webdriver.remote.webelement.WebElement (session=\"ac070ab71d31fef15f1aa011168f2bb4\", element=\"4a8963e4-447b-467b-bcd5-57907a0ff6b5\")>,\n",
       " <selenium.webdriver.remote.webelement.WebElement (session=\"ac070ab71d31fef15f1aa011168f2bb4\", element=\"7baf1ca6-1a7c-4fc1-b9e2-f6628aef5736\")>,\n",
       " <selenium.webdriver.remote.webelement.WebElement (session=\"ac070ab71d31fef15f1aa011168f2bb4\", element=\"74ff0511-a683-4ae6-9d63-880592e20b0d\")>,\n",
       " <selenium.webdriver.remote.webelement.WebElement (session=\"ac070ab71d31fef15f1aa011168f2bb4\", element=\"fe6f0067-91bc-4713-a8ac-fc31bce5be99\")>,\n",
       " <selenium.webdriver.remote.webelement.WebElement (session=\"ac070ab71d31fef15f1aa011168f2bb4\", element=\"de481d6e-4f60-4ef0-b1b5-72d3aa27d8a3\")>,\n",
       " <selenium.webdriver.remote.webelement.WebElement (session=\"ac070ab71d31fef15f1aa011168f2bb4\", element=\"0a79f1cd-fe91-4fbd-9252-78de31c6e50b\")>,\n",
       " <selenium.webdriver.remote.webelement.WebElement (session=\"ac070ab71d31fef15f1aa011168f2bb4\", element=\"8d1c3d01-6015-434c-8aa8-afa2e8ea8df2\")>,\n",
       " <selenium.webdriver.remote.webelement.WebElement (session=\"ac070ab71d31fef15f1aa011168f2bb4\", element=\"9f1711c2-899d-47e3-a4a4-a0dbe3cde9c1\")>,\n",
       " <selenium.webdriver.remote.webelement.WebElement (session=\"ac070ab71d31fef15f1aa011168f2bb4\", element=\"64f8f8f5-5588-4c28-9af0-4b5d0596547c\")>,\n",
       " <selenium.webdriver.remote.webelement.WebElement (session=\"ac070ab71d31fef15f1aa011168f2bb4\", element=\"df702f21-de3d-438f-8c79-3b5923544de6\")>,\n",
       " <selenium.webdriver.remote.webelement.WebElement (session=\"ac070ab71d31fef15f1aa011168f2bb4\", element=\"4e4a3c6e-cf99-461a-a006-8c3e9843c668\")>,\n",
       " <selenium.webdriver.remote.webelement.WebElement (session=\"ac070ab71d31fef15f1aa011168f2bb4\", element=\"8007b2f4-d2d8-4573-b1a7-138ae2466432\")>,\n",
       " <selenium.webdriver.remote.webelement.WebElement (session=\"ac070ab71d31fef15f1aa011168f2bb4\", element=\"7f686814-76d3-49eb-87cf-21c8c31fb12d\")>,\n",
       " <selenium.webdriver.remote.webelement.WebElement (session=\"ac070ab71d31fef15f1aa011168f2bb4\", element=\"3c535eb0-5546-44de-9f14-316fb5b2fd5c\")>,\n",
       " <selenium.webdriver.remote.webelement.WebElement (session=\"ac070ab71d31fef15f1aa011168f2bb4\", element=\"ed755989-ea17-4bc7-99ab-b9bc6eb5d27b\")>,\n",
       " <selenium.webdriver.remote.webelement.WebElement (session=\"ac070ab71d31fef15f1aa011168f2bb4\", element=\"e21fb8b8-5d64-4731-b807-f876ba56fd63\")>,\n",
       " <selenium.webdriver.remote.webelement.WebElement (session=\"ac070ab71d31fef15f1aa011168f2bb4\", element=\"9207a281-48b3-4d35-9550-b263d912259e\")>]"
      ]
     },
     "execution_count": 27,
     "metadata": {},
     "output_type": "execute_result"
    }
   ],
   "source": [
    "properties"
   ]
  },
  {
   "cell_type": "code",
   "execution_count": 28,
   "id": "6cd48eed",
   "metadata": {},
   "outputs": [],
   "source": [
    "price = properties[0].find_element(By.CLASS_NAME, 'dottable-value')"
   ]
  },
  {
   "cell_type": "code",
   "execution_count": 30,
   "id": "713e49f8",
   "metadata": {},
   "outputs": [
    {
     "data": {
      "text/plain": [
       "'250万円'"
      ]
     },
     "execution_count": 30,
     "metadata": {},
     "output_type": "execute_result"
    }
   ],
   "source": [
    "price.text"
   ]
  },
  {
   "cell_type": "code",
   "execution_count": null,
   "id": "57d664bc",
   "metadata": {},
   "outputs": [],
   "source": []
  }
 ],
 "metadata": {
  "kernelspec": {
   "display_name": "Python 3",
   "language": "python",
   "name": "python3"
  },
  "language_info": {
   "codemirror_mode": {
    "name": "ipython",
    "version": 3
   },
   "file_extension": ".py",
   "mimetype": "text/x-python",
   "name": "python",
   "nbconvert_exporter": "python",
   "pygments_lexer": "ipython3",
   "version": "3.7.6"
  }
 },
 "nbformat": 4,
 "nbformat_minor": 5
}
