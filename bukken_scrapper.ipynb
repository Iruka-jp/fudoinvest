{
 "cells": [
  {
   "cell_type": "code",
   "execution_count": 1,
   "id": "3d2ac225",
   "metadata": {},
   "outputs": [],
   "source": [
    "from msedge.selenium_tools import Edge, EdgeOptions\n",
    "from selenium.webdriver.common.by import By\n",
    "from bs4 import BeautifulSoup\n",
    "import re\n",
    "import pandas as pd"
   ]
  },
  {
   "cell_type": "code",
   "execution_count": 2,
   "id": "97d2eecc",
   "metadata": {},
   "outputs": [],
   "source": [
    "options = EdgeOptions()\n",
    "options.use_chromium = True\n",
    "options.add_argument(\"headless\")\n",
    "driver = Edge(executable_path=r'C:\\dev\\WebDrivers\\edgedriver_win64_111\\msedgedriver.exe',options=options)"
   ]
  },
  {
   "cell_type": "code",
   "execution_count": 247,
   "id": "36a24349",
   "metadata": {},
   "outputs": [],
   "source": [
    "driver.get('https://suumo.jp/ms/chuko/fukuoka/city/')"
   ]
  },
  {
   "cell_type": "code",
   "execution_count": 248,
   "id": "292ea167",
   "metadata": {},
   "outputs": [],
   "source": [
    "search_box = driver.find_element(By.CLASS_NAME, 'searchbox')"
   ]
  },
  {
   "cell_type": "code",
   "execution_count": 250,
   "id": "bfbabdf5",
   "metadata": {},
   "outputs": [],
   "source": [
    "search_button = search_box.find_element(By.TAG_NAME,'a').click()"
   ]
  },
  {
   "cell_type": "code",
   "execution_count": 256,
   "id": "18c834e8",
   "metadata": {},
   "outputs": [],
   "source": [
    "#properties = driver.find_elements(By.XPATH, \"//div[starts-with(@class,'property_unit ')]\")\n",
    "properties = driver.find_elements(By.XPATH, \"//div[@class='property_unit-content']\")"
   ]
  },
  {
   "cell_type": "code",
   "execution_count": 257,
   "id": "638fc907",
   "metadata": {},
   "outputs": [
    {
     "name": "stdout",
     "output_type": "stream",
     "text": [
      "250万円\n",
      "580万円\n",
      "590万円\n",
      "598万円\n",
      "698万円\n",
      "850万円\n",
      "898万円\n",
      "898万円\n",
      "949万円\n",
      "998万円\n",
      "998万円\n",
      "998万円\n",
      "1090万円\n",
      "1098万円\n",
      "1098万円\n",
      "1180万円\n",
      "1198万円\n",
      "1198万円\n",
      "1280万円\n",
      "1280万円\n",
      "1298万円\n",
      "1298万円\n",
      "1298万円\n",
      "1298万円\n",
      "1380万円\n",
      "1380万円\n",
      "1380万円\n",
      "1398万円\n",
      "1398万円\n",
      "1430万円\n"
     ]
    }
   ],
   "source": [
    "for prop in properties:\n",
    "    price = prop.find_element(By.CLASS_NAME, 'dottable-value').text\n",
    "    print(price)"
   ]
  },
  {
   "cell_type": "code",
   "execution_count": 219,
   "id": "6cd48eed",
   "metadata": {},
   "outputs": [
    {
     "name": "stdout",
     "output_type": "stream",
     "text": [
      "1900万円\n",
      "福岡県福岡市東区和白丘２\n",
      "8\n",
      "81.91\n",
      "4LDK\n",
      "21.72\n",
      "1994\n"
     ]
    }
   ],
   "source": [
    "prop = properties[0]\n",
    "prop_info = prop.find_elements(By.CLASS_NAME, 'dottable-line')\n",
    "price = prop_info[1].find_element(By.CLASS_NAME, 'dottable-value').text\n",
    "print(price)\n",
    "address = prop_info[2].find_element(By.TAG_NAME, 'dd').text\n",
    "print(address)\n",
    "closest = prop_info[2].find_elements(By.TAG_NAME, 'dd')[1].text.split('徒歩',1)[1][:-1]\n",
    "print(closest)\n",
    "area = prop_info[3].find_element(By.TAG_NAME, 'dd').text.split('m',1)[0]\n",
    "print(area)\n",
    "ap_type = prop_info[3].find_elements(By.TAG_NAME, 'dd')[1].text\n",
    "print(ap_type)\n",
    "try:\n",
    "    balcony = float(prop_info[4].find_element(By.TAG_NAME, 'dd').text.split('m',1)[0])\n",
    "except ValueError:\n",
    "    balcony = 0\n",
    "print(balcony)\n",
    "date = prop_info[4].find_elements(By.TAG_NAME, 'dd')[1].text[:4]\n",
    "print(date)"
   ]
  },
  {
   "cell_type": "code",
   "execution_count": 106,
   "id": "b5a9da68",
   "metadata": {},
   "outputs": [
    {
     "name": "stdout",
     "output_type": "stream",
     "text": [
      "福岡 北九州 門司 清見１\n"
     ]
    }
   ],
   "source": [
    "index = address.find('県')\n",
    "if index == -1 or index >2:\n",
    "    index = address.find('府')\n",
    "if index == -1 or index >2:\n",
    "    index = address.find('道')\n",
    "if index == -1 or index >2:\n",
    "    index = address.find('都')\n",
    "    tokyo=True\n",
    "prefecture = address[:index]\n",
    "address = address[index+1:]\n",
    "index = address.find('市')\n",
    "if index == -1:    \n",
    "    index = address.find('区')\n",
    "    special_ward = True\n",
    "else:\n",
    "    special_ward = False\n",
    "city = address[:index]\n",
    "address = address[index+1:]\n",
    "if special_ward:\n",
    "    ward = city\n",
    "else:\n",
    "    index = address.find('区')\n",
    "    ward = address[:index]\n",
    "    address = address[index+1:]\n",
    "neighborhood = address\n",
    "print(prefecture, city, ward, neighborhood)\n"
   ]
  },
  {
   "cell_type": "code",
   "execution_count": 185,
   "id": "e7a2de89",
   "metadata": {},
   "outputs": [],
   "source": [
    "col_names =  ['Prefecture', 'City', 'Ward', 'Neighborhood', 'Type', 'Area m2', 'Balcony m2', 'Closest station (min)', 'Construction year', 'Price']"
   ]
  },
  {
   "cell_type": "code",
   "execution_count": 242,
   "id": "3dc5eec8",
   "metadata": {},
   "outputs": [],
   "source": [
    "price=[]\n",
    "area=[]\n",
    "ap_type=[]\n",
    "balcony=[]\n",
    "closest=[]\n",
    "year=[]\n",
    "prefecture=[]\n",
    "city=[]\n",
    "ward=[]\n",
    "neighborhood=[]"
   ]
  },
  {
   "cell_type": "code",
   "execution_count": null,
   "id": "713e49f8",
   "metadata": {},
   "outputs": [],
   "source": [
    "while True:\n",
    "    properties = driver.find_elements(By.XPATH, \"//div[@class='property_unit-content']\")\n",
    "    price=[]\n",
    "    area=[]\n",
    "    ap_type=[]\n",
    "    balcony=[]\n",
    "    closest=[]\n",
    "    year=[]\n",
    "    prefecture=[]\n",
    "    city=[]\n",
    "    ward=[]\n",
    "    neighborhood=[]\n",
    "    for prop in properties:\n",
    "        prop_info = prop.find_elements(By.CLASS_NAME, 'dottable-line')\n",
    "        price.append(prop_info[1].find_element(By.CLASS_NAME, 'dottable-value').text)\n",
    "        address = prop_info[2].find_element(By.TAG_NAME, 'dd').text\n",
    "        try:\n",
    "            closest.append(prop_info[2].find_elements(By.TAG_NAME, 'dd')[1].text.split('歩',1)[1][:-1])\n",
    "        except IndexError:\n",
    "            closest.append(60)\n",
    "        area.append(prop_info[3].find_element(By.TAG_NAME, 'dd').text.split('m',1)[0])\n",
    "        ap_type.append(prop_info[3].find_elements(By.TAG_NAME, 'dd')[1].text)\n",
    "        try:\n",
    "            balc = float(prop_info[4].find_element(By.TAG_NAME, 'dd').text.split('m',1)[0])\n",
    "        except ValueError:\n",
    "            balc = 0\n",
    "        balcony.append(balc)\n",
    "        year.append(prop_info[4].find_elements(By.TAG_NAME, 'dd')[1].text[:4])\n",
    "        index = address.find('県')\n",
    "        if index == -1 or index >3:\n",
    "            index = address.find('府')\n",
    "        if index == -1 or index >2:\n",
    "            index = address.find('道')\n",
    "        if index == -1 or index >2:\n",
    "            index = address.find('都')\n",
    "            tokyo=True\n",
    "        prefecture.append(address[:index])\n",
    "        address = address[index+1:]\n",
    "        index = address.find('市')\n",
    "        if index == -1:    \n",
    "            index = address.find('区')\n",
    "            special_ward = True\n",
    "        else:\n",
    "            special_ward = False\n",
    "        city.append(address[:index])\n",
    "        address = address[index+1:]\n",
    "        if special_ward:\n",
    "            ward.append(city[-1])\n",
    "        else:\n",
    "            index = address.find('区')\n",
    "            ward.append(address[:index])\n",
    "            address = address[index+1:]\n",
    "        neighborhood.append(address)\n",
    "    try:\n",
    "        properties_df = properties_df.append(pd.DataFrame(list(zip(prefecture, city, ward, neighborhood, ap_type, area, balcony, closest, year, price)), columns = col_names))\n",
    "    except NameError:\n",
    "        properties_df = pd.DataFrame(list(zip(prefecture, city, ward, neighborhood, ap_type, area, balcony, closest, year, price)), columns = col_names)\n",
    "\n",
    "    pagination = driver.find_elements(By.XPATH, \"//p[@class='pagination-parts']\")\n",
    "    if pagination[-1].text == \"次へ\":\n",
    "        pagination[-1].find_element(By.TAG_NAME,'a').click()\n",
    "    else:\n",
    "        break"
   ]
  },
  {
   "cell_type": "code",
   "execution_count": null,
   "id": "ca9f59cb",
   "metadata": {},
   "outputs": [],
   "source": [
    "properties_df.size"
   ]
  },
  {
   "cell_type": "code",
   "execution_count": 254,
   "id": "57d664bc",
   "metadata": {},
   "outputs": [
    {
     "data": {
      "text/plain": [
       "90"
      ]
     },
     "execution_count": 254,
     "metadata": {},
     "output_type": "execute_result"
    }
   ],
   "source": [
    "properties_df.shape[0]"
   ]
  },
  {
   "cell_type": "code",
   "execution_count": 239,
   "id": "f7719f81",
   "metadata": {},
   "outputs": [],
   "source": [
    "pagination = driver.find_elements(By.XPATH, \"//p[@class='pagination-parts']\")"
   ]
  },
  {
   "cell_type": "code",
   "execution_count": 240,
   "id": "24d91312",
   "metadata": {},
   "outputs": [],
   "source": [
    "if pagination[-1].text == \"次へ\":\n",
    "    pagination[-1].find_element(By.TAG_NAME,'a').click()"
   ]
  },
  {
   "cell_type": "code",
   "execution_count": 76,
   "id": "00c6685f",
   "metadata": {},
   "outputs": [
    {
     "ename": "AttributeError",
     "evalue": "'str' object has no attribute 'asint'",
     "output_type": "error",
     "traceback": [
      "\u001b[1;31m---------------------------------------------------------------------------\u001b[0m",
      "\u001b[1;31mAttributeError\u001b[0m                            Traceback (most recent call last)",
      "\u001b[1;32m<ipython-input-76-7de1629f8645>\u001b[0m in \u001b[0;36m<module>\u001b[1;34m\u001b[0m\n\u001b[1;32m----> 1\u001b[1;33m \u001b[0mbalcon\u001b[0m\u001b[1;33m.\u001b[0m\u001b[0msplit\u001b[0m\u001b[1;33m(\u001b[0m\u001b[1;34m'm'\u001b[0m\u001b[1;33m,\u001b[0m\u001b[1;36m1\u001b[0m\u001b[1;33m)\u001b[0m\u001b[1;33m[\u001b[0m\u001b[1;36m0\u001b[0m\u001b[1;33m]\u001b[0m\u001b[1;33m.\u001b[0m\u001b[0masint\u001b[0m\u001b[1;33m(\u001b[0m\u001b[1;33m)\u001b[0m\u001b[1;33m\u001b[0m\u001b[1;33m\u001b[0m\u001b[0m\n\u001b[0m",
      "\u001b[1;31mAttributeError\u001b[0m: 'str' object has no attribute 'asint'"
     ]
    }
   ],
   "source": []
  },
  {
   "cell_type": "code",
   "execution_count": 255,
   "id": "e509f211",
   "metadata": {},
   "outputs": [],
   "source": [
    "if 'properties_df' in locals():\n",
    "    del properties_df"
   ]
  },
  {
   "cell_type": "code",
   "execution_count": null,
   "id": "86eb05bb",
   "metadata": {},
   "outputs": [],
   "source": [
    "properties_df.to_csv('bukken_data.csv')"
   ]
  },
  {
   "cell_type": "code",
   "execution_count": null,
   "id": "aa553a8a",
   "metadata": {},
   "outputs": [],
   "source": []
  }
 ],
 "metadata": {
  "kernelspec": {
   "display_name": "Python 3",
   "language": "python",
   "name": "python3"
  },
  "language_info": {
   "codemirror_mode": {
    "name": "ipython",
    "version": 3
   },
   "file_extension": ".py",
   "mimetype": "text/x-python",
   "name": "python",
   "nbconvert_exporter": "python",
   "pygments_lexer": "ipython3",
   "version": "3.7.6"
  }
 },
 "nbformat": 4,
 "nbformat_minor": 5
}
